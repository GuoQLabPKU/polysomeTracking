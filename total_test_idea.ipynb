{
 "cells": [
  {
   "cell_type": "code",
   "execution_count": 2,
   "metadata": {},
   "outputs": [],
   "source": [
    "from  tom_starread import tom_starread\n",
    "from tom_extractData import tom_extractData"
   ]
  },
  {
   "cell_type": "code",
   "execution_count": 3,
   "metadata": {},
   "outputs": [
    {
     "data": {
      "text/html": [
       "<div>\n",
       "<style scoped>\n",
       "    .dataframe tbody tr th:only-of-type {\n",
       "        vertical-align: middle;\n",
       "    }\n",
       "\n",
       "    .dataframe tbody tr th {\n",
       "        vertical-align: top;\n",
       "    }\n",
       "\n",
       "    .dataframe thead th {\n",
       "        text-align: right;\n",
       "    }\n",
       "</style>\n",
       "<table border=\"1\" class=\"dataframe\">\n",
       "  <thead>\n",
       "    <tr style=\"text-align: right;\">\n",
       "      <th></th>\n",
       "      <th>rlnMicrographName</th>\n",
       "      <th>rlnCoordinateX</th>\n",
       "      <th>rlnCoordinateY</th>\n",
       "      <th>rlnCoordinateZ</th>\n",
       "      <th>rlnAngleRot</th>\n",
       "      <th>rlnAngleTilt</th>\n",
       "      <th>rlnAnglePsi</th>\n",
       "      <th>rlnMagnification</th>\n",
       "      <th>rlnDetectorPixelSize</th>\n",
       "      <th>rlnCtfMaxResolution</th>\n",
       "      <th>...</th>\n",
       "      <th>rlnGroupNumber</th>\n",
       "      <th>rlnClassNumber</th>\n",
       "      <th>rlnNormCorrection</th>\n",
       "      <th>rlnRandomSubset</th>\n",
       "      <th>rlnLogLikeliContribution</th>\n",
       "      <th>rlnMaxValueProbDistribution</th>\n",
       "      <th>rlnNrOfSignificantSamples</th>\n",
       "      <th>rlnOriginX</th>\n",
       "      <th>rlnOriginY</th>\n",
       "      <th>rlnOriginZ</th>\n",
       "    </tr>\n",
       "  </thead>\n",
       "  <tbody>\n",
       "    <tr>\n",
       "      <th>0</th>\n",
       "      <td>101.mrc</td>\n",
       "      <td>329.889</td>\n",
       "      <td>343.124</td>\n",
       "      <td>1012.450</td>\n",
       "      <td>-48.993990</td>\n",
       "      <td>15.492610</td>\n",
       "      <td>-76.451680</td>\n",
       "      <td>10000.0</td>\n",
       "      <td>3.42</td>\n",
       "      <td>9.7</td>\n",
       "      <td>...</td>\n",
       "      <td>1</td>\n",
       "      <td>1</td>\n",
       "      <td>1.0</td>\n",
       "      <td>1</td>\n",
       "      <td>15293440.0</td>\n",
       "      <td>0.807994</td>\n",
       "      <td>6</td>\n",
       "      <td>-0.608940</td>\n",
       "      <td>-0.608940</td>\n",
       "      <td>-0.088940</td>\n",
       "    </tr>\n",
       "    <tr>\n",
       "      <th>1</th>\n",
       "      <td>101.mrc</td>\n",
       "      <td>793.889</td>\n",
       "      <td>655.077</td>\n",
       "      <td>941.163</td>\n",
       "      <td>-101.747780</td>\n",
       "      <td>85.299932</td>\n",
       "      <td>160.948385</td>\n",
       "      <td>10000.0</td>\n",
       "      <td>3.42</td>\n",
       "      <td>9.7</td>\n",
       "      <td>...</td>\n",
       "      <td>1</td>\n",
       "      <td>1</td>\n",
       "      <td>1.0</td>\n",
       "      <td>1</td>\n",
       "      <td>15273660.0</td>\n",
       "      <td>0.517087</td>\n",
       "      <td>3</td>\n",
       "      <td>0.671063</td>\n",
       "      <td>1.431063</td>\n",
       "      <td>-0.088940</td>\n",
       "    </tr>\n",
       "    <tr>\n",
       "      <th>2</th>\n",
       "      <td>101.mrc</td>\n",
       "      <td>2685.125</td>\n",
       "      <td>368.587</td>\n",
       "      <td>1031.393</td>\n",
       "      <td>-55.913580</td>\n",
       "      <td>106.104003</td>\n",
       "      <td>110.741103</td>\n",
       "      <td>10000.0</td>\n",
       "      <td>3.42</td>\n",
       "      <td>9.7</td>\n",
       "      <td>...</td>\n",
       "      <td>1</td>\n",
       "      <td>1</td>\n",
       "      <td>1.0</td>\n",
       "      <td>1</td>\n",
       "      <td>15246000.0</td>\n",
       "      <td>0.733273</td>\n",
       "      <td>3</td>\n",
       "      <td>-0.088940</td>\n",
       "      <td>0.671063</td>\n",
       "      <td>-1.288940</td>\n",
       "    </tr>\n",
       "    <tr>\n",
       "      <th>3</th>\n",
       "      <td>101.mrc</td>\n",
       "      <td>2642.635</td>\n",
       "      <td>3348.587</td>\n",
       "      <td>530.373</td>\n",
       "      <td>-80.834630</td>\n",
       "      <td>61.978194</td>\n",
       "      <td>5.846171</td>\n",
       "      <td>10000.0</td>\n",
       "      <td>3.42</td>\n",
       "      <td>9.7</td>\n",
       "      <td>...</td>\n",
       "      <td>1</td>\n",
       "      <td>1</td>\n",
       "      <td>1.0</td>\n",
       "      <td>1</td>\n",
       "      <td>15259190.0</td>\n",
       "      <td>0.605896</td>\n",
       "      <td>2</td>\n",
       "      <td>-0.848940</td>\n",
       "      <td>-1.088940</td>\n",
       "      <td>0.391063</td>\n",
       "    </tr>\n",
       "    <tr>\n",
       "      <th>4</th>\n",
       "      <td>101.mrc</td>\n",
       "      <td>3061.567</td>\n",
       "      <td>2973.125</td>\n",
       "      <td>527.113</td>\n",
       "      <td>-128.418870</td>\n",
       "      <td>141.895437</td>\n",
       "      <td>-14.716250</td>\n",
       "      <td>10000.0</td>\n",
       "      <td>3.42</td>\n",
       "      <td>9.7</td>\n",
       "      <td>...</td>\n",
       "      <td>1</td>\n",
       "      <td>1</td>\n",
       "      <td>1.0</td>\n",
       "      <td>1</td>\n",
       "      <td>15260650.0</td>\n",
       "      <td>0.953581</td>\n",
       "      <td>1</td>\n",
       "      <td>-0.568940</td>\n",
       "      <td>-0.848940</td>\n",
       "      <td>0.391063</td>\n",
       "    </tr>\n",
       "    <tr>\n",
       "      <th>...</th>\n",
       "      <td>...</td>\n",
       "      <td>...</td>\n",
       "      <td>...</td>\n",
       "      <td>...</td>\n",
       "      <td>...</td>\n",
       "      <td>...</td>\n",
       "      <td>...</td>\n",
       "      <td>...</td>\n",
       "      <td>...</td>\n",
       "      <td>...</td>\n",
       "      <td>...</td>\n",
       "      <td>...</td>\n",
       "      <td>...</td>\n",
       "      <td>...</td>\n",
       "      <td>...</td>\n",
       "      <td>...</td>\n",
       "      <td>...</td>\n",
       "      <td>...</td>\n",
       "      <td>...</td>\n",
       "      <td>...</td>\n",
       "      <td>...</td>\n",
       "    </tr>\n",
       "    <tr>\n",
       "      <th>11542</th>\n",
       "      <td>118.mrc</td>\n",
       "      <td>2039.510</td>\n",
       "      <td>1908.290</td>\n",
       "      <td>617.047</td>\n",
       "      <td>171.252920</td>\n",
       "      <td>83.649823</td>\n",
       "      <td>-31.580720</td>\n",
       "      <td>10000.0</td>\n",
       "      <td>3.42</td>\n",
       "      <td>7.1</td>\n",
       "      <td>...</td>\n",
       "      <td>18</td>\n",
       "      <td>5</td>\n",
       "      <td>1.0</td>\n",
       "      <td>1</td>\n",
       "      <td>15307300.0</td>\n",
       "      <td>0.049497</td>\n",
       "      <td>20</td>\n",
       "      <td>-2.319500</td>\n",
       "      <td>-0.404500</td>\n",
       "      <td>-2.607000</td>\n",
       "    </tr>\n",
       "    <tr>\n",
       "      <th>11543</th>\n",
       "      <td>118.mrc</td>\n",
       "      <td>1720.395</td>\n",
       "      <td>712.510</td>\n",
       "      <td>866.037</td>\n",
       "      <td>-4.064220</td>\n",
       "      <td>38.344906</td>\n",
       "      <td>57.374594</td>\n",
       "      <td>10000.0</td>\n",
       "      <td>3.42</td>\n",
       "      <td>7.1</td>\n",
       "      <td>...</td>\n",
       "      <td>18</td>\n",
       "      <td>5</td>\n",
       "      <td>1.0</td>\n",
       "      <td>1</td>\n",
       "      <td>15275500.0</td>\n",
       "      <td>0.091213</td>\n",
       "      <td>27</td>\n",
       "      <td>-0.404500</td>\n",
       "      <td>2.680502</td>\n",
       "      <td>-0.319500</td>\n",
       "    </tr>\n",
       "    <tr>\n",
       "      <th>11544</th>\n",
       "      <td>118.mrc</td>\n",
       "      <td>2479.510</td>\n",
       "      <td>1680.628</td>\n",
       "      <td>602.817</td>\n",
       "      <td>130.349468</td>\n",
       "      <td>65.788786</td>\n",
       "      <td>25.393269</td>\n",
       "      <td>10000.0</td>\n",
       "      <td>3.42</td>\n",
       "      <td>7.1</td>\n",
       "      <td>...</td>\n",
       "      <td>18</td>\n",
       "      <td>5</td>\n",
       "      <td>1.0</td>\n",
       "      <td>1</td>\n",
       "      <td>15272540.0</td>\n",
       "      <td>0.042054</td>\n",
       "      <td>30</td>\n",
       "      <td>-1.319500</td>\n",
       "      <td>0.680502</td>\n",
       "      <td>-1.234500</td>\n",
       "    </tr>\n",
       "    <tr>\n",
       "      <th>11545</th>\n",
       "      <td>118.mrc</td>\n",
       "      <td>2301.510</td>\n",
       "      <td>2184.953</td>\n",
       "      <td>948.372</td>\n",
       "      <td>70.679554</td>\n",
       "      <td>84.747167</td>\n",
       "      <td>-148.004030</td>\n",
       "      <td>10000.0</td>\n",
       "      <td>3.42</td>\n",
       "      <td>7.1</td>\n",
       "      <td>...</td>\n",
       "      <td>18</td>\n",
       "      <td>5</td>\n",
       "      <td>1.0</td>\n",
       "      <td>2</td>\n",
       "      <td>15312430.0</td>\n",
       "      <td>0.085835</td>\n",
       "      <td>8</td>\n",
       "      <td>1.595502</td>\n",
       "      <td>-2.862000</td>\n",
       "      <td>-1.234500</td>\n",
       "    </tr>\n",
       "    <tr>\n",
       "      <th>11546</th>\n",
       "      <td>118.mrc</td>\n",
       "      <td>658.510</td>\n",
       "      <td>756.628</td>\n",
       "      <td>875.847</td>\n",
       "      <td>-54.347140</td>\n",
       "      <td>72.633985</td>\n",
       "      <td>-173.056180</td>\n",
       "      <td>10000.0</td>\n",
       "      <td>3.42</td>\n",
       "      <td>7.1</td>\n",
       "      <td>...</td>\n",
       "      <td>18</td>\n",
       "      <td>5</td>\n",
       "      <td>1.0</td>\n",
       "      <td>1</td>\n",
       "      <td>15258750.0</td>\n",
       "      <td>0.087665</td>\n",
       "      <td>28</td>\n",
       "      <td>3.138002</td>\n",
       "      <td>1.138002</td>\n",
       "      <td>-0.319500</td>\n",
       "    </tr>\n",
       "  </tbody>\n",
       "</table>\n",
       "<p>11547 rows × 22 columns</p>\n",
       "</div>"
      ],
      "text/plain": [
       "      rlnMicrographName  rlnCoordinateX  rlnCoordinateY  rlnCoordinateZ  \\\n",
       "0               101.mrc         329.889         343.124        1012.450   \n",
       "1               101.mrc         793.889         655.077         941.163   \n",
       "2               101.mrc        2685.125         368.587        1031.393   \n",
       "3               101.mrc        2642.635        3348.587         530.373   \n",
       "4               101.mrc        3061.567        2973.125         527.113   \n",
       "...                 ...             ...             ...             ...   \n",
       "11542           118.mrc        2039.510        1908.290         617.047   \n",
       "11543           118.mrc        1720.395         712.510         866.037   \n",
       "11544           118.mrc        2479.510        1680.628         602.817   \n",
       "11545           118.mrc        2301.510        2184.953         948.372   \n",
       "11546           118.mrc         658.510         756.628         875.847   \n",
       "\n",
       "       rlnAngleRot  rlnAngleTilt  rlnAnglePsi  rlnMagnification  \\\n",
       "0       -48.993990     15.492610   -76.451680           10000.0   \n",
       "1      -101.747780     85.299932   160.948385           10000.0   \n",
       "2       -55.913580    106.104003   110.741103           10000.0   \n",
       "3       -80.834630     61.978194     5.846171           10000.0   \n",
       "4      -128.418870    141.895437   -14.716250           10000.0   \n",
       "...            ...           ...          ...               ...   \n",
       "11542   171.252920     83.649823   -31.580720           10000.0   \n",
       "11543    -4.064220     38.344906    57.374594           10000.0   \n",
       "11544   130.349468     65.788786    25.393269           10000.0   \n",
       "11545    70.679554     84.747167  -148.004030           10000.0   \n",
       "11546   -54.347140     72.633985  -173.056180           10000.0   \n",
       "\n",
       "       rlnDetectorPixelSize  rlnCtfMaxResolution  ... rlnGroupNumber  \\\n",
       "0                      3.42                  9.7  ...              1   \n",
       "1                      3.42                  9.7  ...              1   \n",
       "2                      3.42                  9.7  ...              1   \n",
       "3                      3.42                  9.7  ...              1   \n",
       "4                      3.42                  9.7  ...              1   \n",
       "...                     ...                  ...  ...            ...   \n",
       "11542                  3.42                  7.1  ...             18   \n",
       "11543                  3.42                  7.1  ...             18   \n",
       "11544                  3.42                  7.1  ...             18   \n",
       "11545                  3.42                  7.1  ...             18   \n",
       "11546                  3.42                  7.1  ...             18   \n",
       "\n",
       "      rlnClassNumber  rlnNormCorrection  rlnRandomSubset  \\\n",
       "0                  1                1.0                1   \n",
       "1                  1                1.0                1   \n",
       "2                  1                1.0                1   \n",
       "3                  1                1.0                1   \n",
       "4                  1                1.0                1   \n",
       "...              ...                ...              ...   \n",
       "11542              5                1.0                1   \n",
       "11543              5                1.0                1   \n",
       "11544              5                1.0                1   \n",
       "11545              5                1.0                2   \n",
       "11546              5                1.0                1   \n",
       "\n",
       "       rlnLogLikeliContribution  rlnMaxValueProbDistribution  \\\n",
       "0                    15293440.0                     0.807994   \n",
       "1                    15273660.0                     0.517087   \n",
       "2                    15246000.0                     0.733273   \n",
       "3                    15259190.0                     0.605896   \n",
       "4                    15260650.0                     0.953581   \n",
       "...                         ...                          ...   \n",
       "11542                15307300.0                     0.049497   \n",
       "11543                15275500.0                     0.091213   \n",
       "11544                15272540.0                     0.042054   \n",
       "11545                15312430.0                     0.085835   \n",
       "11546                15258750.0                     0.087665   \n",
       "\n",
       "       rlnNrOfSignificantSamples  rlnOriginX  rlnOriginY  rlnOriginZ  \n",
       "0                              6   -0.608940   -0.608940   -0.088940  \n",
       "1                              3    0.671063    1.431063   -0.088940  \n",
       "2                              3   -0.088940    0.671063   -1.288940  \n",
       "3                              2   -0.848940   -1.088940    0.391063  \n",
       "4                              1   -0.568940   -0.848940    0.391063  \n",
       "...                          ...         ...         ...         ...  \n",
       "11542                         20   -2.319500   -0.404500   -2.607000  \n",
       "11543                         27   -0.404500    2.680502   -0.319500  \n",
       "11544                         30   -1.319500    0.680502   -1.234500  \n",
       "11545                          8    1.595502   -2.862000   -1.234500  \n",
       "11546                         28    3.138002    1.138002   -0.319500  \n",
       "\n",
       "[11547 rows x 22 columns]"
      ]
     },
     "execution_count": 3,
     "metadata": {},
     "output_type": "execute_result"
    }
   ],
   "source": [
    "star_data = tom_starread(\"./all_particles_15-11-2019.star\")\n",
    "star_data"
   ]
  },
  {
   "cell_type": "code",
   "execution_count": null,
   "metadata": {},
   "outputs": [],
   "source": []
  },
  {
   "cell_type": "code",
   "execution_count": null,
   "metadata": {},
   "outputs": [],
   "source": [
    "np.s"
   ]
  },
  {
   "cell_type": "code",
   "execution_count": 4,
   "metadata": {
    "scrolled": true
   },
   "outputs": [
    {
     "name": "stdout",
     "output_type": "stream",
     "text": [
      "Finish generating st file from relionStar\n"
     ]
    }
   ],
   "source": [
    "st = tom_extractData(star_data,0)"
   ]
  },
  {
   "cell_type": "code",
   "execution_count": 4,
   "metadata": {},
   "outputs": [
    {
     "data": {
      "text/plain": [
       "{'p1': {'positions': array([[ 329.889,  343.124, 1012.45 ],\n",
       "         [ 793.889,  655.077,  941.163],\n",
       "         [2685.125,  368.587, 1031.393],\n",
       "         ...,\n",
       "         [2479.51 , 1680.628,  602.817],\n",
       "         [2301.51 , 2184.953,  948.372],\n",
       "         [ 658.51 ,  756.628,  875.847]]), 'angles': array([[ 138,  -13,   15],\n",
       "         [-168,  109,   85],\n",
       "         [ 145,  159,  106],\n",
       "         ...,\n",
       "         [ -40, -115,   65],\n",
       "         [  19,   58,   84],\n",
       "         [ 144,   83,   72]]), 'classes': array([1, 1, 1, ..., 5, 5, 5], dtype=int64), 'tomoName': array(['101.mrc', '101.mrc', '101.mrc', ..., '118.mrc', '118.mrc',\n",
       "         '118.mrc'], dtype=object), 'psfs': array(['../tilts/subtomo_ribo/new_ctf/101/101_0000044_ctf_3.42A.mrc',\n",
       "         '../tilts/subtomo_ribo/new_ctf/101/101_0000121_ctf_3.42A.mrc',\n",
       "         '../tilts/subtomo_ribo/new_ctf/101/101_0000174_ctf_3.42A.mrc', ...,\n",
       "         '../tilts/subtomo_ribo/new_ctf/118/118_0001524_ctf_3.42A.mrc',\n",
       "         '../tilts/subtomo_ribo/new_ctf/118/118_0001533_ctf_3.42A.mrc',\n",
       "         '../tilts/subtomo_ribo/new_ctf/118/118_0001534_ctf_3.42A.mrc'],\n",
       "        dtype=object), 'pixs': array([3.42, 3.42, 3.42, ..., 3.42, 3.42, 3.42])},\n",
       " 'label': {'tomoName': array(['101.mrc', '101.mrc', '101.mrc', ..., '118.mrc', '118.mrc',\n",
       "         '118.mrc'], dtype=object),\n",
       "  'tomoID': array([ 0,  0,  0, ..., 17, 17, 17])}}"
      ]
     },
     "execution_count": 4,
     "metadata": {},
     "output_type": "execute_result"
    }
   ],
   "source": [
    "st"
   ]
  },
  {
   "cell_type": "code",
   "execution_count": 13,
   "metadata": {},
   "outputs": [],
   "source": [
    "import numpy as np\n",
    "#from calcTransforms import *\n",
    "\n",
    "def tom_calcTransforms(posAng,  maxDist, tomoNames='', dmetric='exact', outputName='', verbose=1, worker_n = 1):\n",
    "    '''\n",
    "    TOM_CALCTRANSFORMS calcutes pair transformations for all combinations use\n",
    "    pruneRad(maxDist) to reduce calc (particles with distance > maxDist will not paired)\n",
    "\n",
    "    transList=tom_calcTransforms(pos,pruneRad,dmetric,verbose)\n",
    "\n",
    "    PARAMETERS\n",
    "\n",
    "    INPUT\n",
    "        posAng              positions and angles of particles/observation nx6 or List .star               \n",
    "        maxDist             (inf) max particle/observation distance \n",
    "                                  pairs above this distance will be discarted\n",
    "                                  usually a good value is 2.5 particleRad \n",
    "        tomoNames           ('') tuple with tomogramName to seperate tomograms\n",
    "        dmetric             ('exact') at the moment only exact implemented\n",
    "        outputName          ('') name of pair output starFile \n",
    "        verbose             (1) verbose flag use 0 for no output\n",
    "\n",
    "\n",
    "    OUTPUT\n",
    "        starSt          star struck  containing the transformations and input Data\n",
    "\n",
    "\n",
    "    EXAMPLE\n",
    "    \n",
    "        datMat = tom_calcTransforms([0 0 0;1 1 1;2 2 2],[0 0 0; 0 0 10; 10 20 30],10,verbose = 0);\n",
    "\n",
    "    REFERENCES\n",
    "    \n",
    "    '''\n",
    "    oriPartList = 'noListStarGiven'\n",
    "    type_posAng = type(posAng)\n",
    "    if type_posAng.__name__ == 'str':\n",
    "        oriPartList = posAng\n",
    "        posAng = tom_starread(posAng)\n",
    "    if type_posAng.__name__ == 'dict':\n",
    "        if \"pairTransVectX\" in posAng.keys():\n",
    "            print(\"The file already has transformation information!\")\n",
    "            return \n",
    "    # read the star file into a dict/st\n",
    "    st = tom_extract(posAng,0)\n",
    "    uTomoId = np.unique(st[\"label\"][\"tomoID\"])\n",
    "    uTomoNames = np.unique(st[\"label\"][\"tomoName\"])\n",
    "    len_tomo = len(uTomoId)\n",
    "    #transDict: store the information of transformation\n",
    "    #allTomoNames: the name of tomo\n",
    "    #idxOffset: \n",
    "    transList = [ ] \n",
    "    allTomoNames = [ ]\n",
    "    idxOffSet = 0\n",
    "    \n",
    "    #using multiple process to do calcTransforms\n",
    "    n_cpu = mp.cpu_count()\n",
    "    if n_cpu < worker_n:\n",
    "        print(\"Warning: %d cpu detected, but %d cpu to be push\"%(n_cpu, worker_n))\n",
    "        worker_n = n_cpu\n",
    "    \n",
    "    for i in range(len_tomo):\n",
    "        idx = np.where(st[\"label\"][\"tomoID\"] == uTomoId[i])\n",
    "        posAct = st[\"p1\"][\"positions\"][idx,:]\n",
    "        anglesAct = st[\"p1\"][\"angles\"][idx,:]\n",
    "        \n",
    "        transListAct = calcTransforms(posAct, anglesAct, maxDist, dmetric, uTomoId[i], verbose)\n",
    "        \n",
    "        \n",
    "        \n",
    "    \n",
    "    \n",
    "    \n",
    "        \n",
    "        \n",
    "    \n",
    "    \n",
    "    \n",
    "    "
   ]
  },
  {
   "cell_type": "code",
   "execution_count": 7,
   "metadata": {},
   "outputs": [
    {
     "ename": "SyntaxError",
     "evalue": "unexpected EOF while parsing (<ipython-input-7-a1e3b1c357e4>, line 28)",
     "output_type": "error",
     "traceback": [
      "\u001b[1;36m  File \u001b[1;32m\"<ipython-input-7-a1e3b1c357e4>\"\u001b[1;36m, line \u001b[1;32m28\u001b[0m\n\u001b[1;33m    \u001b[0m\n\u001b[1;37m    ^\u001b[0m\n\u001b[1;31mSyntaxError\u001b[0m\u001b[1;31m:\u001b[0m unexpected EOF while parsing\n"
     ]
    }
   ],
   "source": [
    "import numpy as np\n",
    "import multiprocessing as mp\n",
    "import gc\n",
    "import sys\n",
    "#from tom_calcPairTransForm.py import *\n",
    "def calcTransforms(pos, angles, pruneRad, dmetric, tomoID, verbose):\n",
    "    #jobList: store three columns: 1.the index of the pair1 in pos_array 2. the index of the pair2 in pos_array\n",
    "    jobList = np.zeros([pos.shape[0]*pos.shape[0], 2], dtype = np.int)\n",
    "    zz = 0\n",
    "    for i in range(pos.shape[0]):\n",
    "        for ii in range(i+1, pos.shape[0]):\n",
    "            pos1 = pos[i,:]\n",
    "            pos2 = pos[ii,:]\n",
    "            if (np.linalg.norm(pos1 - pos2)) > pruneRad: #discard the pairs with euler distance > pruneRad\n",
    "                continue\n",
    "            jobList[zz,0] = i\n",
    "            jobList[zz,1] = ii\n",
    "            zz += 1\n",
    "    jobListN = jobList[0:zz,:]\n",
    "    jobList = jobListN\n",
    "    \n",
    "    transListAct_inner = np.zeros([jobList.shape[0],29], dtype = np.float)\n",
    "    \n",
    "    if (verbose == 1):\n",
    "        #using process bar to show the progress for each process\n",
    "        \n",
    "        \n",
    "        \n",
    "        \n",
    "            \n",
    "    \n",
    "    \n",
    "    \n",
    "    "
   ]
  },
  {
   "cell_type": "code",
   "execution_count": null,
   "metadata": {},
   "outputs": [],
   "source": [
    "import multiprocessing\n",
    "import time\n",
    "\n",
    "def func(msg):\n",
    "    return multiprocessing.current_process().name + '-' + msg\n",
    "\n",
    "\n",
    "pool = multiprocessing.Pool(processes=4) # 创建4个进程\n",
    "results = []\n",
    "for i in range(10):\n",
    "    msg = \"hello %d\" %(i)\n",
    "    results.append(pool.apply_async(func, (msg, )))\n",
    "pool.close()\n",
    "pool.join() \n",
    "print (\"Sub-process(es) done.\")\n",
    "\n",
    "for res in results:\n",
    "    print (res.get())\n"
   ]
  },
  {
   "cell_type": "code",
   "execution_count": 2,
   "metadata": {},
   "outputs": [],
   "source": [
    "import numpy as np"
   ]
  },
  {
   "cell_type": "code",
   "execution_count": 3,
   "metadata": {},
   "outputs": [],
   "source": [
    "sym_id = np.arange(10)"
   ]
  },
  {
   "cell_type": "code",
   "execution_count": 4,
   "metadata": {},
   "outputs": [
    {
     "data": {
      "text/plain": [
       "array([0, 1, 2, 3, 4, 5, 6, 7, 8, 9])"
      ]
     },
     "execution_count": 4,
     "metadata": {},
     "output_type": "execute_result"
    }
   ],
   "source": [
    "sym_id"
   ]
  },
  {
   "cell_type": "code",
   "execution_count": 15,
   "metadata": {},
   "outputs": [
    {
     "data": {
      "text/plain": [
       "array([4])"
      ]
     },
     "execution_count": 15,
     "metadata": {},
     "output_type": "execute_result"
    }
   ],
   "source": [
    "np.array_split(range(len(sym_id)),6)[2]"
   ]
  },
  {
   "cell_type": "code",
   "execution_count": 16,
   "metadata": {},
   "outputs": [
    {
     "data": {
      "text/plain": [
       "2.02425151"
      ]
     },
     "execution_count": 16,
     "metadata": {},
     "output_type": "execute_result"
    }
   ],
   "source": [
    "0.98958413+0.25524006 + 0.77942732"
   ]
  },
  {
   "cell_type": "code",
   "execution_count": 61,
   "metadata": {},
   "outputs": [
    {
     "data": {
      "text/plain": [
       "'aa'"
      ]
     },
     "execution_count": 61,
     "metadata": {},
     "output_type": "execute_result"
    }
   ],
   "source": [
    "np.concatenate((np.array([]), np.repeat([\"aa\"],10)))"
   ]
  },
  {
   "cell_type": "code",
   "execution_count": 58,
   "metadata": {},
   "outputs": [
    {
     "data": {
      "text/plain": [
       "array([1, 1, 1, 1, 1, 1, 1, 1, 1, 1])"
      ]
     },
     "execution_count": 58,
     "metadata": {},
     "output_type": "execute_result"
    }
   ],
   "source": [
    "np.repeat([1],10)"
   ]
  },
  {
   "cell_type": "code",
   "execution_count": 27,
   "metadata": {},
   "outputs": [
    {
     "data": {
      "text/plain": [
       "0"
      ]
     },
     "execution_count": 27,
     "metadata": {},
     "output_type": "execute_result"
    }
   ],
   "source": [
    "20%10"
   ]
  },
  {
   "cell_type": "code",
   "execution_count": 41,
   "metadata": {},
   "outputs": [],
   "source": [
    "a = np.repeat([1],10)"
   ]
  },
  {
   "cell_type": "code",
   "execution_count": 42,
   "metadata": {},
   "outputs": [
    {
     "data": {
      "text/plain": [
       "array([1, 1, 1, 1, 1, 1, 1, 1, 1, 1])"
      ]
     },
     "execution_count": 42,
     "metadata": {},
     "output_type": "execute_result"
    }
   ],
   "source": [
    "a"
   ]
  },
  {
   "cell_type": "code",
   "execution_count": 54,
   "metadata": {},
   "outputs": [],
   "source": [
    "b = a.reshape(-1,1).reshape(1,-1)[0]"
   ]
  },
  {
   "cell_type": "code",
   "execution_count": 57,
   "metadata": {},
   "outputs": [
    {
     "data": {
      "text/plain": [
       "array([1, 1, 1, 1])"
      ]
     },
     "execution_count": 57,
     "metadata": {},
     "output_type": "execute_result"
    }
   ],
   "source": [
    "b[[4,5,8,7]]"
   ]
  },
  {
   "cell_type": "code",
   "execution_count": 62,
   "metadata": {},
   "outputs": [
    {
     "data": {
      "text/plain": [
       "array([1, 1, 1, 1, 1, 1, 1, 1, 1, 1])"
      ]
     },
     "execution_count": 62,
     "metadata": {},
     "output_type": "execute_result"
    }
   ],
   "source": [
    "a "
   ]
  },
  {
   "cell_type": "code",
   "execution_count": 63,
   "metadata": {},
   "outputs": [],
   "source": [
    "import copy"
   ]
  },
  {
   "cell_type": "code",
   "execution_count": 65,
   "metadata": {},
   "outputs": [],
   "source": [
    "b = copy.deepcopy(a)"
   ]
  },
  {
   "cell_type": "code",
   "execution_count": 66,
   "metadata": {},
   "outputs": [
    {
     "data": {
      "text/plain": [
       "array([1, 1, 1, 1, 1, 1, 1, 1, 1, 1])"
      ]
     },
     "execution_count": 66,
     "metadata": {},
     "output_type": "execute_result"
    }
   ],
   "source": [
    "b"
   ]
  },
  {
   "cell_type": "code",
   "execution_count": 69,
   "metadata": {},
   "outputs": [
    {
     "data": {
      "text/plain": [
       "array([[0., 0.],\n",
       "       [0., 0.],\n",
       "       [0., 0.],\n",
       "       [0., 0.],\n",
       "       [0., 0.],\n",
       "       [0., 0.],\n",
       "       [0., 0.],\n",
       "       [0., 0.],\n",
       "       [0., 0.],\n",
       "       [0., 0.]])"
      ]
     },
     "execution_count": 69,
     "metadata": {},
     "output_type": "execute_result"
    }
   ],
   "source": [
    "c = np.zeros([10,2])\n",
    "c"
   ]
  },
  {
   "cell_type": "code",
   "execution_count": 70,
   "metadata": {},
   "outputs": [
    {
     "data": {
      "text/plain": [
       "array([[1., 0.],\n",
       "       [1., 0.],\n",
       "       [1., 0.],\n",
       "       [1., 0.],\n",
       "       [1., 0.],\n",
       "       [1., 0.],\n",
       "       [1., 0.],\n",
       "       [1., 0.],\n",
       "       [1., 0.],\n",
       "       [1., 0.]])"
      ]
     },
     "execution_count": 70,
     "metadata": {},
     "output_type": "execute_result"
    }
   ],
   "source": [
    "c[:,0] = b\n",
    "c"
   ]
  },
  {
   "cell_type": "code",
   "execution_count": 74,
   "metadata": {},
   "outputs": [],
   "source": [
    "d = c.astype(np.int)"
   ]
  },
  {
   "cell_type": "code",
   "execution_count": 75,
   "metadata": {},
   "outputs": [
    {
     "name": "stdout",
     "output_type": "stream",
     "text": [
      "2621210340688\n",
      "2621189966384\n"
     ]
    }
   ],
   "source": [
    "print(id(d))\n",
    "print(id(c))"
   ]
  },
  {
   "cell_type": "code",
   "execution_count": 81,
   "metadata": {},
   "outputs": [
    {
     "data": {
      "text/plain": [
       "array([['-1:-1', '-1:-1'],\n",
       "       ['-1:-1', '-1:-1'],\n",
       "       ['-1:-1', '-1:-1'],\n",
       "       ['-1:-1', '-1:-1'],\n",
       "       ['-1:-1', '-1:-1'],\n",
       "       ['-1:-1', '-1:-1'],\n",
       "       ['-1:-1', '-1:-1'],\n",
       "       ['-1:-1', '-1:-1'],\n",
       "       ['-1:-1', '-1:-1'],\n",
       "       ['-1:-1', '-1:-1']], dtype='<U5')"
      ]
     },
     "execution_count": 81,
     "metadata": {},
     "output_type": "execute_result"
    }
   ],
   "source": [
    "np.tile(['-1:-1','-1:-1'],(10,1))"
   ]
  },
  {
   "cell_type": "code",
   "execution_count": 84,
   "metadata": {},
   "outputs": [],
   "source": [
    "a = np.array([1,'-1'])"
   ]
  },
  {
   "cell_type": "code",
   "execution_count": 87,
   "metadata": {},
   "outputs": [
    {
     "data": {
      "text/plain": [
       "array([ 1, -1])"
      ]
     },
     "execution_count": 87,
     "metadata": {},
     "output_type": "execute_result"
    }
   ],
   "source": [
    "a.astype(np.int)"
   ]
  },
  {
   "cell_type": "code",
   "execution_count": 88,
   "metadata": {},
   "outputs": [
    {
     "data": {
      "text/plain": [
       "array([[1., 0.],\n",
       "       [1., 0.],\n",
       "       [1., 0.],\n",
       "       [1., 0.],\n",
       "       [1., 0.],\n",
       "       [1., 0.],\n",
       "       [1., 0.],\n",
       "       [1., 0.],\n",
       "       [1., 0.],\n",
       "       [1., 0.]])"
      ]
     },
     "execution_count": 88,
     "metadata": {},
     "output_type": "execute_result"
    }
   ],
   "source": [
    "c\n"
   ]
  },
  {
   "cell_type": "code",
   "execution_count": 89,
   "metadata": {},
   "outputs": [],
   "source": [
    "import pandas as pd"
   ]
  },
  {
   "cell_type": "code",
   "execution_count": 91,
   "metadata": {},
   "outputs": [
    {
     "data": {
      "text/html": [
       "<div>\n",
       "<style scoped>\n",
       "    .dataframe tbody tr th:only-of-type {\n",
       "        vertical-align: middle;\n",
       "    }\n",
       "\n",
       "    .dataframe tbody tr th {\n",
       "        vertical-align: top;\n",
       "    }\n",
       "\n",
       "    .dataframe thead th {\n",
       "        text-align: right;\n",
       "    }\n",
       "</style>\n",
       "<table border=\"1\" class=\"dataframe\">\n",
       "  <thead>\n",
       "    <tr style=\"text-align: right;\">\n",
       "      <th></th>\n",
       "      <th>a</th>\n",
       "      <th>b</th>\n",
       "    </tr>\n",
       "  </thead>\n",
       "  <tbody>\n",
       "    <tr>\n",
       "      <th>0</th>\n",
       "      <td>1.0</td>\n",
       "      <td>0.0</td>\n",
       "    </tr>\n",
       "    <tr>\n",
       "      <th>1</th>\n",
       "      <td>1.0</td>\n",
       "      <td>0.0</td>\n",
       "    </tr>\n",
       "    <tr>\n",
       "      <th>2</th>\n",
       "      <td>1.0</td>\n",
       "      <td>0.0</td>\n",
       "    </tr>\n",
       "    <tr>\n",
       "      <th>3</th>\n",
       "      <td>1.0</td>\n",
       "      <td>0.0</td>\n",
       "    </tr>\n",
       "    <tr>\n",
       "      <th>4</th>\n",
       "      <td>1.0</td>\n",
       "      <td>0.0</td>\n",
       "    </tr>\n",
       "    <tr>\n",
       "      <th>5</th>\n",
       "      <td>1.0</td>\n",
       "      <td>0.0</td>\n",
       "    </tr>\n",
       "    <tr>\n",
       "      <th>6</th>\n",
       "      <td>1.0</td>\n",
       "      <td>0.0</td>\n",
       "    </tr>\n",
       "    <tr>\n",
       "      <th>7</th>\n",
       "      <td>1.0</td>\n",
       "      <td>0.0</td>\n",
       "    </tr>\n",
       "    <tr>\n",
       "      <th>8</th>\n",
       "      <td>1.0</td>\n",
       "      <td>0.0</td>\n",
       "    </tr>\n",
       "    <tr>\n",
       "      <th>9</th>\n",
       "      <td>1.0</td>\n",
       "      <td>0.0</td>\n",
       "    </tr>\n",
       "  </tbody>\n",
       "</table>\n",
       "</div>"
      ],
      "text/plain": [
       "     a    b\n",
       "0  1.0  0.0\n",
       "1  1.0  0.0\n",
       "2  1.0  0.0\n",
       "3  1.0  0.0\n",
       "4  1.0  0.0\n",
       "5  1.0  0.0\n",
       "6  1.0  0.0\n",
       "7  1.0  0.0\n",
       "8  1.0  0.0\n",
       "9  1.0  0.0"
      ]
     },
     "execution_count": 91,
     "metadata": {},
     "output_type": "execute_result"
    }
   ],
   "source": [
    "pd.DataFrame(c,columns=[\"a\",\"b\"])"
   ]
  },
  {
   "cell_type": "code",
   "execution_count": 97,
   "metadata": {},
   "outputs": [
    {
     "data": {
      "text/plain": [
       "array([[ 1, -1],\n",
       "       [ 1, -1],\n",
       "       [ 1, -1],\n",
       "       [ 1, -1],\n",
       "       [ 1, -1],\n",
       "       [ 1, -1],\n",
       "       [ 1, -1],\n",
       "       [ 1, -1],\n",
       "       [ 1, -1],\n",
       "       [ 1, -1]])"
      ]
     },
     "execution_count": 97,
     "metadata": {},
     "output_type": "execute_result"
    }
   ],
   "source": [
    "c=c.astype(np.int)\n",
    "c[:,1] = np.repeat((-1.9),10)\n",
    "c"
   ]
  },
  {
   "cell_type": "code",
   "execution_count": 98,
   "metadata": {},
   "outputs": [
    {
     "data": {
      "text/plain": [
       "array([[0., 0., 0., 0.],\n",
       "       [0., 0., 0., 0.],\n",
       "       [0., 0., 0., 0.],\n",
       "       [0., 0., 0., 0.],\n",
       "       [0., 0., 0., 0.]])"
      ]
     },
     "execution_count": 98,
     "metadata": {},
     "output_type": "execute_result"
    }
   ],
   "source": [
    "c = np.zeros([5,4])\n",
    "c"
   ]
  },
  {
   "cell_type": "code",
   "execution_count": 14,
   "metadata": {},
   "outputs": [
    {
     "ename": "NameError",
     "evalue": "name 'c' is not defined",
     "output_type": "error",
     "traceback": [
      "\u001b[1;31m---------------------------------------------------------------------------\u001b[0m",
      "\u001b[1;31mNameError\u001b[0m                                 Traceback (most recent call last)",
      "\u001b[1;32m<ipython-input-14-71bbb2285d98>\u001b[0m in \u001b[0;36m<module>\u001b[1;34m\u001b[0m\n\u001b[1;32m----> 1\u001b[1;33m \u001b[0mc\u001b[0m\u001b[1;33m[\u001b[0m\u001b[1;33m:\u001b[0m\u001b[1;33m,\u001b[0m\u001b[1;36m1\u001b[0m\u001b[1;33m]\u001b[0m \u001b[1;33m=\u001b[0m \u001b[0mnp\u001b[0m\u001b[1;33m.\u001b[0m\u001b[0marray\u001b[0m\u001b[1;33m(\u001b[0m\u001b[1;33m[\u001b[0m\u001b[1;36m1\u001b[0m\u001b[1;33m,\u001b[0m\u001b[1;36m1\u001b[0m\u001b[1;33m,\u001b[0m\u001b[1;36m1\u001b[0m\u001b[1;33m,\u001b[0m\u001b[1;36m1\u001b[0m\u001b[1;33m,\u001b[0m\u001b[1;36m1\u001b[0m\u001b[1;33m]\u001b[0m\u001b[1;33m)\u001b[0m\u001b[1;33m\u001b[0m\u001b[1;33m\u001b[0m\u001b[0m\n\u001b[0m\u001b[0;32m      2\u001b[0m \u001b[0mc\u001b[0m\u001b[1;33m\u001b[0m\u001b[1;33m\u001b[0m\u001b[0m\n",
      "\u001b[1;31mNameError\u001b[0m: name 'c' is not defined"
     ]
    }
   ],
   "source": [
    "c[:,1] = np.array([1,1,1,1,1])\n",
    "c"
   ]
  },
  {
   "cell_type": "code",
   "execution_count": 101,
   "metadata": {},
   "outputs": [
    {
     "data": {
      "text/html": [
       "<div>\n",
       "<style scoped>\n",
       "    .dataframe tbody tr th:only-of-type {\n",
       "        vertical-align: middle;\n",
       "    }\n",
       "\n",
       "    .dataframe tbody tr th {\n",
       "        vertical-align: top;\n",
       "    }\n",
       "\n",
       "    .dataframe thead th {\n",
       "        text-align: right;\n",
       "    }\n",
       "</style>\n",
       "<table border=\"1\" class=\"dataframe\">\n",
       "  <thead>\n",
       "    <tr style=\"text-align: right;\">\n",
       "      <th></th>\n",
       "      <th>a</th>\n",
       "      <th>b</th>\n",
       "      <th>c</th>\n",
       "      <th>d</th>\n",
       "    </tr>\n",
       "  </thead>\n",
       "  <tbody>\n",
       "    <tr>\n",
       "      <th>0</th>\n",
       "      <td>0.0</td>\n",
       "      <td>1.0</td>\n",
       "      <td>0.0</td>\n",
       "      <td>0.0</td>\n",
       "    </tr>\n",
       "    <tr>\n",
       "      <th>1</th>\n",
       "      <td>0.0</td>\n",
       "      <td>1.0</td>\n",
       "      <td>0.0</td>\n",
       "      <td>0.0</td>\n",
       "    </tr>\n",
       "    <tr>\n",
       "      <th>2</th>\n",
       "      <td>0.0</td>\n",
       "      <td>1.0</td>\n",
       "      <td>0.0</td>\n",
       "      <td>0.0</td>\n",
       "    </tr>\n",
       "    <tr>\n",
       "      <th>3</th>\n",
       "      <td>0.0</td>\n",
       "      <td>1.0</td>\n",
       "      <td>0.0</td>\n",
       "      <td>0.0</td>\n",
       "    </tr>\n",
       "    <tr>\n",
       "      <th>4</th>\n",
       "      <td>0.0</td>\n",
       "      <td>1.0</td>\n",
       "      <td>0.0</td>\n",
       "      <td>0.0</td>\n",
       "    </tr>\n",
       "  </tbody>\n",
       "</table>\n",
       "</div>"
      ],
      "text/plain": [
       "     a    b    c    d\n",
       "0  0.0  1.0  0.0  0.0\n",
       "1  0.0  1.0  0.0  0.0\n",
       "2  0.0  1.0  0.0  0.0\n",
       "3  0.0  1.0  0.0  0.0\n",
       "4  0.0  1.0  0.0  0.0"
      ]
     },
     "execution_count": 101,
     "metadata": {},
     "output_type": "execute_result"
    }
   ],
   "source": [
    "test = pd.DataFrame(c,columns=[\"a\",\"b\",\"c\",\"d\"])\n",
    "test"
   ]
  },
  {
   "cell_type": "code",
   "execution_count": 104,
   "metadata": {},
   "outputs": [
    {
     "data": {
      "text/html": [
       "<div>\n",
       "<style scoped>\n",
       "    .dataframe tbody tr th:only-of-type {\n",
       "        vertical-align: middle;\n",
       "    }\n",
       "\n",
       "    .dataframe tbody tr th {\n",
       "        vertical-align: top;\n",
       "    }\n",
       "\n",
       "    .dataframe thead th {\n",
       "        text-align: right;\n",
       "    }\n",
       "</style>\n",
       "<table border=\"1\" class=\"dataframe\">\n",
       "  <thead>\n",
       "    <tr style=\"text-align: right;\">\n",
       "      <th></th>\n",
       "      <th>a</th>\n",
       "      <th>b</th>\n",
       "      <th>c</th>\n",
       "      <th>d</th>\n",
       "      <th>y</th>\n",
       "      <th>u</th>\n",
       "      <th>i</th>\n",
       "      <th>o</th>\n",
       "    </tr>\n",
       "  </thead>\n",
       "  <tbody>\n",
       "    <tr>\n",
       "      <th>0</th>\n",
       "      <td>0.0</td>\n",
       "      <td>1.0</td>\n",
       "      <td>0.0</td>\n",
       "      <td>0.0</td>\n",
       "      <td>0.0</td>\n",
       "      <td>1.0</td>\n",
       "      <td>0.0</td>\n",
       "      <td>0.0</td>\n",
       "    </tr>\n",
       "    <tr>\n",
       "      <th>1</th>\n",
       "      <td>0.0</td>\n",
       "      <td>1.0</td>\n",
       "      <td>0.0</td>\n",
       "      <td>0.0</td>\n",
       "      <td>0.0</td>\n",
       "      <td>1.0</td>\n",
       "      <td>0.0</td>\n",
       "      <td>0.0</td>\n",
       "    </tr>\n",
       "    <tr>\n",
       "      <th>2</th>\n",
       "      <td>0.0</td>\n",
       "      <td>1.0</td>\n",
       "      <td>0.0</td>\n",
       "      <td>0.0</td>\n",
       "      <td>0.0</td>\n",
       "      <td>1.0</td>\n",
       "      <td>0.0</td>\n",
       "      <td>0.0</td>\n",
       "    </tr>\n",
       "    <tr>\n",
       "      <th>3</th>\n",
       "      <td>0.0</td>\n",
       "      <td>1.0</td>\n",
       "      <td>0.0</td>\n",
       "      <td>0.0</td>\n",
       "      <td>0.0</td>\n",
       "      <td>1.0</td>\n",
       "      <td>0.0</td>\n",
       "      <td>0.0</td>\n",
       "    </tr>\n",
       "    <tr>\n",
       "      <th>4</th>\n",
       "      <td>0.0</td>\n",
       "      <td>1.0</td>\n",
       "      <td>0.0</td>\n",
       "      <td>0.0</td>\n",
       "      <td>0.0</td>\n",
       "      <td>1.0</td>\n",
       "      <td>0.0</td>\n",
       "      <td>0.0</td>\n",
       "    </tr>\n",
       "  </tbody>\n",
       "</table>\n",
       "</div>"
      ],
      "text/plain": [
       "     a    b    c    d    y    u    i    o\n",
       "0  0.0  1.0  0.0  0.0  0.0  1.0  0.0  0.0\n",
       "1  0.0  1.0  0.0  0.0  0.0  1.0  0.0  0.0\n",
       "2  0.0  1.0  0.0  0.0  0.0  1.0  0.0  0.0\n",
       "3  0.0  1.0  0.0  0.0  0.0  1.0  0.0  0.0\n",
       "4  0.0  1.0  0.0  0.0  0.0  1.0  0.0  0.0"
      ]
     },
     "execution_count": 104,
     "metadata": {},
     "output_type": "execute_result"
    }
   ],
   "source": [
    "test2 = copy.deepcopy(test)\n",
    "test2.columns = [\"y\",\"u\",\"i\",\"o\"]\n",
    "pd.concat([test,test2],axis = 1)"
   ]
  },
  {
   "cell_type": "code",
   "execution_count": 110,
   "metadata": {},
   "outputs": [],
   "source": [
    "test2[[\"z\",\"g\"]] = np.zeros([5,2],np.int)\n",
    "test2[\"f\"] = [\"dsd\",\"fdsd\",\"dfsd\",\"dfsdf\",\"dfsdf\"]"
   ]
  },
  {
   "cell_type": "code",
   "execution_count": 112,
   "metadata": {},
   "outputs": [
    {
     "data": {
      "text/html": [
       "<div>\n",
       "<style scoped>\n",
       "    .dataframe tbody tr th:only-of-type {\n",
       "        vertical-align: middle;\n",
       "    }\n",
       "\n",
       "    .dataframe tbody tr th {\n",
       "        vertical-align: top;\n",
       "    }\n",
       "\n",
       "    .dataframe thead th {\n",
       "        text-align: right;\n",
       "    }\n",
       "</style>\n",
       "<table border=\"1\" class=\"dataframe\">\n",
       "  <thead>\n",
       "    <tr style=\"text-align: right;\">\n",
       "      <th></th>\n",
       "      <th>y</th>\n",
       "      <th>u</th>\n",
       "      <th>i</th>\n",
       "      <th>o</th>\n",
       "      <th>z</th>\n",
       "      <th>g</th>\n",
       "      <th>f</th>\n",
       "    </tr>\n",
       "  </thead>\n",
       "  <tbody>\n",
       "    <tr>\n",
       "      <th>0</th>\n",
       "      <td>0.0</td>\n",
       "      <td>1.0</td>\n",
       "      <td>0.0</td>\n",
       "      <td>0.0</td>\n",
       "      <td>0.0</td>\n",
       "      <td>0.0</td>\n",
       "      <td>1</td>\n",
       "    </tr>\n",
       "    <tr>\n",
       "      <th>1</th>\n",
       "      <td>0.0</td>\n",
       "      <td>1.0</td>\n",
       "      <td>0.0</td>\n",
       "      <td>0.0</td>\n",
       "      <td>0.0</td>\n",
       "      <td>0.0</td>\n",
       "      <td>2</td>\n",
       "    </tr>\n",
       "    <tr>\n",
       "      <th>2</th>\n",
       "      <td>0.0</td>\n",
       "      <td>1.0</td>\n",
       "      <td>0.0</td>\n",
       "      <td>0.0</td>\n",
       "      <td>0.0</td>\n",
       "      <td>0.0</td>\n",
       "      <td>3</td>\n",
       "    </tr>\n",
       "    <tr>\n",
       "      <th>3</th>\n",
       "      <td>0.0</td>\n",
       "      <td>1.0</td>\n",
       "      <td>0.0</td>\n",
       "      <td>0.0</td>\n",
       "      <td>0.0</td>\n",
       "      <td>0.0</td>\n",
       "      <td>4</td>\n",
       "    </tr>\n",
       "    <tr>\n",
       "      <th>4</th>\n",
       "      <td>0.0</td>\n",
       "      <td>1.0</td>\n",
       "      <td>0.0</td>\n",
       "      <td>0.0</td>\n",
       "      <td>0.0</td>\n",
       "      <td>0.0</td>\n",
       "      <td>5</td>\n",
       "    </tr>\n",
       "  </tbody>\n",
       "</table>\n",
       "</div>"
      ],
      "text/plain": [
       "     y    u    i    o    z    g  f\n",
       "0  0.0  1.0  0.0  0.0  0.0  0.0  1\n",
       "1  0.0  1.0  0.0  0.0  0.0  0.0  2\n",
       "2  0.0  1.0  0.0  0.0  0.0  0.0  3\n",
       "3  0.0  1.0  0.0  0.0  0.0  0.0  4\n",
       "4  0.0  1.0  0.0  0.0  0.0  0.0  5"
      ]
     },
     "execution_count": 112,
     "metadata": {},
     "output_type": "execute_result"
    }
   ],
   "source": [
    "test2[\"f\"] = [1,2,3,4,5]\n",
    "test2"
   ]
  },
  {
   "cell_type": "code",
   "execution_count": 113,
   "metadata": {},
   "outputs": [
    {
     "ename": "TypeError",
     "evalue": "'astype' is an invalid keyword argument for this function",
     "output_type": "error",
     "traceback": [
      "\u001b[1;31m---------------------------------------------------------------------------\u001b[0m",
      "\u001b[1;31mTypeError\u001b[0m                                 Traceback (most recent call last)",
      "\u001b[1;32m<ipython-input-113-c34c76ec6d98>\u001b[0m in \u001b[0;36m<module>\u001b[1;34m\u001b[0m\n\u001b[1;32m----> 1\u001b[1;33m \u001b[0mnp\u001b[0m\u001b[1;33m.\u001b[0m\u001b[0marray\u001b[0m\u001b[1;33m(\u001b[0m\u001b[1;33m[\u001b[0m\u001b[1;36m1.1\u001b[0m\u001b[1;33m,\u001b[0m\u001b[1;36m2.1\u001b[0m\u001b[1;33m]\u001b[0m\u001b[1;33m,\u001b[0m\u001b[0mastype\u001b[0m \u001b[1;33m=\u001b[0m \u001b[0mnp\u001b[0m\u001b[1;33m.\u001b[0m\u001b[0mfloat\u001b[0m\u001b[1;33m)\u001b[0m\u001b[1;33m\u001b[0m\u001b[1;33m\u001b[0m\u001b[0m\n\u001b[0m",
      "\u001b[1;31mTypeError\u001b[0m: 'astype' is an invalid keyword argument for this function"
     ]
    }
   ],
   "source": [
    "np.array([1.1,2.1],astype = np.float)"
   ]
  },
  {
   "cell_type": "code",
   "execution_count": 114,
   "metadata": {},
   "outputs": [
    {
     "data": {
      "text/plain": [
       "array([[0., 1., 0., 0.],\n",
       "       [0., 1., 0., 0.],\n",
       "       [0., 1., 0., 0.],\n",
       "       [0., 1., 0., 0.],\n",
       "       [0., 1., 0., 0.]])"
      ]
     },
     "execution_count": 114,
     "metadata": {},
     "output_type": "execute_result"
    }
   ],
   "source": [
    "c"
   ]
  },
  {
   "cell_type": "code",
   "execution_count": 118,
   "metadata": {},
   "outputs": [],
   "source": [
    "i = c.reshape(1,-1)[0]"
   ]
  },
  {
   "cell_type": "code",
   "execution_count": 120,
   "metadata": {},
   "outputs": [
    {
     "data": {
      "text/plain": [
       "array([ 0,  2,  3,  4,  6,  7,  8, 10, 11, 12, 14, 15, 16, 18, 19],\n",
       "      dtype=int64)"
      ]
     },
     "execution_count": 120,
     "metadata": {},
     "output_type": "execute_result"
    }
   ],
   "source": [
    "np.where(i==0)[0]"
   ]
  },
  {
   "cell_type": "code",
   "execution_count": 125,
   "metadata": {},
   "outputs": [
    {
     "data": {
      "text/plain": [
       "array([[0., 1., 0., 0.],\n",
       "       [0., 1., 0., 0.],\n",
       "       [0., 1., 0., 0.],\n",
       "       [0., 1., 0., 0.],\n",
       "       [0., 1., 0., 0.]])"
      ]
     },
     "execution_count": 125,
     "metadata": {},
     "output_type": "execute_result"
    }
   ],
   "source": [
    "a = np.array([],dtype = np.float).reshape(0,4)\n",
    "np.concatenate((a,c))"
   ]
  },
  {
   "cell_type": "code",
   "execution_count": 127,
   "metadata": {},
   "outputs": [],
   "source": [
    "test = np.repeat([5],10)"
   ]
  },
  {
   "cell_type": "code",
   "execution_count": 128,
   "metadata": {},
   "outputs": [
    {
     "data": {
      "text/plain": [
       "array([5, 5, 5, 5, 5, 5, 5, 5, 5, 5])"
      ]
     },
     "execution_count": 128,
     "metadata": {},
     "output_type": "execute_result"
    }
   ],
   "source": [
    "test"
   ]
  },
  {
   "cell_type": "code",
   "execution_count": 131,
   "metadata": {},
   "outputs": [],
   "source": [
    "yy = np.array([],dtype = np.int)"
   ]
  },
  {
   "cell_type": "code",
   "execution_count": 132,
   "metadata": {},
   "outputs": [
    {
     "data": {
      "text/plain": [
       "array([5, 5, 5, 5, 5, 5, 5, 5, 5, 5])"
      ]
     },
     "execution_count": 132,
     "metadata": {},
     "output_type": "execute_result"
    }
   ],
   "source": [
    "np.concatenate((yy, test))"
   ]
  },
  {
   "cell_type": "code",
   "execution_count": 9,
   "metadata": {},
   "outputs": [
    {
     "data": {
      "text/plain": [
       "array([3.2, 3.2, 3.2, 3.2, 3.2, 3.2, 3.2, 3.2, 3.2, 3.2])"
      ]
     },
     "execution_count": 9,
     "metadata": {},
     "output_type": "execute_result"
    }
   ],
   "source": [
    "import numpy as np\n",
    "np.repeat([3.2], 10)"
   ]
  },
  {
   "cell_type": "code",
   "execution_count": 11,
   "metadata": {},
   "outputs": [
    {
     "data": {
      "text/plain": [
       "3.4200000000000004"
      ]
     },
     "execution_count": 11,
     "metadata": {},
     "output_type": "execute_result"
    }
   ],
   "source": []
  },
  {
   "cell_type": "code",
   "execution_count": 13,
   "metadata": {},
   "outputs": [
    {
     "ename": "NameError",
     "evalue": "name 'test2' is not defined",
     "output_type": "error",
     "traceback": [
      "\u001b[1;31m---------------------------------------------------------------------------\u001b[0m",
      "\u001b[1;31mNameError\u001b[0m                                 Traceback (most recent call last)",
      "\u001b[1;32m<ipython-input-13-4301478d38cc>\u001b[0m in \u001b[0;36m<module>\u001b[1;34m\u001b[0m\n\u001b[1;32m----> 1\u001b[1;33m \u001b[0mtest2\u001b[0m\u001b[1;33m[\u001b[0m\u001b[1;34m\"ttt\"\u001b[0m\u001b[1;33m]\u001b[0m \u001b[1;33m=\u001b[0m \u001b[0mnp\u001b[0m\u001b[1;33m.\u001b[0m\u001b[0mrepeat\u001b[0m\u001b[1;33m(\u001b[0m\u001b[1;33m[\u001b[0m\u001b[0mst\u001b[0m\u001b[1;33m[\u001b[0m\u001b[1;34m\"p1\"\u001b[0m\u001b[1;33m]\u001b[0m\u001b[1;33m[\u001b[0m\u001b[1;34m\"pixs\"\u001b[0m\u001b[1;33m]\u001b[0m\u001b[1;33m[\u001b[0m\u001b[1;36m0\u001b[0m\u001b[1;33m]\u001b[0m\u001b[1;33m]\u001b[0m\u001b[1;33m,\u001b[0m \u001b[1;36m5\u001b[0m\u001b[1;33m)\u001b[0m\u001b[1;33m\u001b[0m\u001b[1;33m\u001b[0m\u001b[0m\n\u001b[0m\u001b[0;32m      2\u001b[0m \u001b[0mtest2\u001b[0m\u001b[1;33m\u001b[0m\u001b[1;33m\u001b[0m\u001b[0m\n",
      "\u001b[1;31mNameError\u001b[0m: name 'test2' is not defined"
     ]
    }
   ],
   "source": [
    "test2[\"ttt\"] = np.repeat([st[\"p1\"][\"pixs\"][0]], 5)\n",
    "test2"
   ]
  },
  {
   "cell_type": "code",
   "execution_count": 1,
   "metadata": {},
   "outputs": [],
   "source": [
    "from tom_sum_rotation import *"
   ]
  },
  {
   "cell_type": "code",
   "execution_count": 2,
   "metadata": {},
   "outputs": [
    {
     "name": "stdout",
     "output_type": "stream",
     "text": [
      "s\n",
      "[[[-0.57548245  0.69610261 -0.42925645]\n",
      "  [ 0.53294278 -0.07891588 -0.84246322]\n",
      "  [-0.620316   -0.71359193 -0.32556815]]\n",
      "\n",
      " [[-0.57870534  0.79693634  0.17318374]\n",
      "  [-0.81345582 -0.54890339 -0.19234003]\n",
      "  [-0.05822162 -0.25218553  0.96592583]]]\n"
     ]
    },
    {
     "data": {
      "text/plain": [
       "(array([-135.3994, -151.2631,   94.4176]),\n",
       " array([0., 0., 0.]),\n",
       " array([[ 0.65032759, -0.58931175, -0.47935966],\n",
       "        [ 0.29490705, -0.38567923,  0.87423187],\n",
       "        [-0.70007418, -0.70990365, -0.07702565]]))"
      ]
     },
     "execution_count": 2,
     "metadata": {},
     "output_type": "execute_result"
    }
   ],
   "source": [
    " tom_sum_rotation(np.array([[-139,-27,109],[13,-138,-15]]),np.array([[0,0,0],[0,0,0]]),'trans_rot')"
   ]
  },
  {
   "cell_type": "code",
   "execution_count": 3,
   "metadata": {},
   "outputs": [
    {
     "name": "stdout",
     "output_type": "stream",
     "text": [
      "[[[-0.57548245  0.69610261 -0.42925645]\n",
      "  [ 0.53294278 -0.07891588 -0.84246322]\n",
      "  [-0.620316   -0.71359193 -0.32556815]]\n",
      "\n",
      " [[-0.57870534  0.79693634  0.17318374]\n",
      "  [-0.81345582 -0.54890339 -0.19234003]\n",
      "  [-0.05822162 -0.25218553  0.96592583]]]\n"
     ]
    },
    {
     "data": {
      "text/plain": [
       "(array([-135.3994, -151.2631,   94.4176]),\n",
       " array([0., 0., 0.]),\n",
       " array([[ 0.65032759, -0.58931175, -0.47935966],\n",
       "        [ 0.29490705, -0.38567923,  0.87423187],\n",
       "        [-0.70007418, -0.70990365, -0.07702565]]))"
      ]
     },
     "execution_count": 3,
     "metadata": {},
     "output_type": "execute_result"
    }
   ],
   "source": [
    "tom_sum_rotation(np.array([[-139,-27,109],[13,-138,-15]]),np.array([[0,0,0],[0,0,0]]),'rot_trans')"
   ]
  },
  {
   "cell_type": "code",
   "execution_count": 7,
   "metadata": {},
   "outputs": [
    {
     "data": {
      "text/plain": [
       "array([1, 2, 3])"
      ]
     },
     "execution_count": 7,
     "metadata": {},
     "output_type": "execute_result"
    }
   ],
   "source": [
    "a = np.array([1,2,3])\n",
    "a"
   ]
  },
  {
   "cell_type": "code",
   "execution_count": 8,
   "metadata": {},
   "outputs": [
    {
     "data": {
      "text/plain": [
       "array([1, 8, 3])"
      ]
     },
     "execution_count": 8,
     "metadata": {},
     "output_type": "execute_result"
    }
   ],
   "source": [
    "a[1:2] = [8]\n",
    "a"
   ]
  },
  {
   "cell_type": "code",
   "execution_count": 9,
   "metadata": {},
   "outputs": [
    {
     "data": {
      "text/plain": [
       "array([1, 8, 3])"
      ]
     },
     "execution_count": 9,
     "metadata": {},
     "output_type": "execute_result"
    }
   ],
   "source": [
    "a"
   ]
  },
  {
   "cell_type": "code",
   "execution_count": 11,
   "metadata": {},
   "outputs": [
    {
     "data": {
      "text/plain": [
       "array([0, 1, 2])"
      ]
     },
     "execution_count": 11,
     "metadata": {},
     "output_type": "execute_result"
    }
   ],
   "source": [
    "np.array_split(range(len(a)),1)[0]"
   ]
  },
  {
   "cell_type": "code",
   "execution_count": 13,
   "metadata": {},
   "outputs": [
    {
     "data": {
      "text/html": [
       "<div>\n",
       "<style scoped>\n",
       "    .dataframe tbody tr th:only-of-type {\n",
       "        vertical-align: middle;\n",
       "    }\n",
       "\n",
       "    .dataframe tbody tr th {\n",
       "        vertical-align: top;\n",
       "    }\n",
       "\n",
       "    .dataframe thead th {\n",
       "        text-align: right;\n",
       "    }\n",
       "</style>\n",
       "<table border=\"1\" class=\"dataframe\">\n",
       "  <thead>\n",
       "    <tr style=\"text-align: right;\">\n",
       "      <th></th>\n",
       "      <th>a</th>\n",
       "      <th>b</th>\n",
       "    </tr>\n",
       "  </thead>\n",
       "  <tbody>\n",
       "    <tr>\n",
       "      <th>0</th>\n",
       "      <td>1</td>\n",
       "      <td>1.2</td>\n",
       "    </tr>\n",
       "    <tr>\n",
       "      <th>1</th>\n",
       "      <td>2</td>\n",
       "      <td>3.4</td>\n",
       "    </tr>\n",
       "    <tr>\n",
       "      <th>2</th>\n",
       "      <td>3</td>\n",
       "      <td>6.5</td>\n",
       "    </tr>\n",
       "    <tr>\n",
       "      <th>3</th>\n",
       "      <td>4</td>\n",
       "      <td>3.5</td>\n",
       "    </tr>\n",
       "    <tr>\n",
       "      <th>4</th>\n",
       "      <td>6</td>\n",
       "      <td>6.0</td>\n",
       "    </tr>\n",
       "  </tbody>\n",
       "</table>\n",
       "</div>"
      ],
      "text/plain": [
       "   a    b\n",
       "0  1  1.2\n",
       "1  2  3.4\n",
       "2  3  6.5\n",
       "3  4  3.5\n",
       "4  6  6.0"
      ]
     },
     "execution_count": 13,
     "metadata": {},
     "output_type": "execute_result"
    }
   ],
   "source": [
    "import pandas as pd\n",
    "tets_dict  = {\"a\":[1,2,3,4,6],\"b\":[1.2,3.4,6.5,3.5,6]}\n",
    "b = pd.DataFrame()\n",
    "b[\"a\"] = tets_dict[\"a\"]\n",
    "b[\"b\"] = tets_dict[\"b\"]\n",
    "b"
   ]
  },
  {
   "cell_type": "code",
   "execution_count": 15,
   "metadata": {},
   "outputs": [
    {
     "data": {
      "text/plain": [
       "'DataFrame'"
      ]
     },
     "execution_count": 15,
     "metadata": {},
     "output_type": "execute_result"
    }
   ],
   "source": [
    "type(b).__name__"
   ]
  },
  {
   "cell_type": "code",
   "execution_count": 16,
   "metadata": {},
   "outputs": [
    {
     "data": {
      "text/html": [
       "<div>\n",
       "<style scoped>\n",
       "    .dataframe tbody tr th:only-of-type {\n",
       "        vertical-align: middle;\n",
       "    }\n",
       "\n",
       "    .dataframe tbody tr th {\n",
       "        vertical-align: top;\n",
       "    }\n",
       "\n",
       "    .dataframe thead th {\n",
       "        text-align: right;\n",
       "    }\n",
       "</style>\n",
       "<table border=\"1\" class=\"dataframe\">\n",
       "  <thead>\n",
       "    <tr style=\"text-align: right;\">\n",
       "      <th></th>\n",
       "      <th>a</th>\n",
       "      <th>b</th>\n",
       "    </tr>\n",
       "  </thead>\n",
       "  <tbody>\n",
       "    <tr>\n",
       "      <th>0</th>\n",
       "      <td>1</td>\n",
       "      <td>1.2</td>\n",
       "    </tr>\n",
       "    <tr>\n",
       "      <th>1</th>\n",
       "      <td>2</td>\n",
       "      <td>3.4</td>\n",
       "    </tr>\n",
       "    <tr>\n",
       "      <th>2</th>\n",
       "      <td>3</td>\n",
       "      <td>6.5</td>\n",
       "    </tr>\n",
       "    <tr>\n",
       "      <th>3</th>\n",
       "      <td>4</td>\n",
       "      <td>3.5</td>\n",
       "    </tr>\n",
       "    <tr>\n",
       "      <th>4</th>\n",
       "      <td>6</td>\n",
       "      <td>6.0</td>\n",
       "    </tr>\n",
       "  </tbody>\n",
       "</table>\n",
       "</div>"
      ],
      "text/plain": [
       "   a    b\n",
       "0  1  1.2\n",
       "1  2  3.4\n",
       "2  3  6.5\n",
       "3  4  3.5\n",
       "4  6  6.0"
      ]
     },
     "execution_count": 16,
     "metadata": {},
     "output_type": "execute_result"
    }
   ],
   "source": [
    "b"
   ]
  },
  {
   "cell_type": "code",
   "execution_count": 5,
   "metadata": {},
   "outputs": [],
   "source": [
    "header = { }\n",
    "header[\"is_loop\"] = 1\n",
    "header[\"title\"] = \"data_\"\n",
    "header[\"fieldNames\"] = ['_pairIDX1','_pairIDX2','_pairTomoID',\n",
    "                              '_pairTransVectX','_pairTransVectY','_pairTransVectZ',\n",
    "                              '_pairTransAngleZXZPhi', '_pairTransAngleZXZPsi','_pairTransAngleZXZTheta',\n",
    "                              '_pairInvTransVectX','_pairInvTransVectY','_pairInvTransVectZ',\n",
    "                              '_pairInvTransAngleZXZPhi', '_pairInvTransAngleZXZPsi','_pairInvTransAngleZXZTheta',\n",
    "                              '_pairLenTrans','_pairAngDist',\n",
    "                              '_pairCoordinateX1','_pairCoordinateY1','_pairCoordinateZ1',\n",
    "                              '_pairAnglePhi1','_pairAnglePsi1','_pairAngleTheta1',\n",
    "                              '_pairClass1','_pairPsf1',\n",
    "                               '_pairNeighPlus1','_pairNeighMinus1',\n",
    "                              '_pairCoordinateX2','_pairCoordinateY2','_pairCoordinateZ2',\n",
    "                              '_pairAnglePhi2','_pairAnglePsi2','_pairAngleTheta2',\n",
    "                              '_pairClass2','_pairPsf2',\n",
    "                               '_pairNeighPlus2','_pairNeighMinus2',\n",
    "                              '_pairTomoName','_pairPixelSizeAng',\n",
    "                              '_pairOriPartList',\n",
    "                              '_pairMaxDist','_pairClass','_pairClassColour','_pairLabel','_pairScore']"
   ]
  },
  {
   "cell_type": "code",
   "execution_count": 6,
   "metadata": {},
   "outputs": [
    {
     "ename": "NameError",
     "evalue": "name 'b' is not defined",
     "output_type": "error",
     "traceback": [
      "\u001b[1;31m---------------------------------------------------------------------------\u001b[0m",
      "\u001b[1;31mNameError\u001b[0m                                 Traceback (most recent call last)",
      "\u001b[1;32m<ipython-input-6-9885b0498f6a>\u001b[0m in \u001b[0;36m<module>\u001b[1;34m\u001b[0m\n\u001b[0;32m      7\u001b[0m \u001b[0mf\u001b[0m\u001b[1;33m.\u001b[0m\u001b[0mclose\u001b[0m\u001b[1;33m(\u001b[0m\u001b[1;33m)\u001b[0m\u001b[1;33m\u001b[0m\u001b[1;33m\u001b[0m\u001b[0m\n\u001b[0;32m      8\u001b[0m \u001b[1;31m#write the data body\u001b[0m\u001b[1;33m\u001b[0m\u001b[1;33m\u001b[0m\u001b[1;33m\u001b[0m\u001b[0m\n\u001b[1;32m----> 9\u001b[1;33m \u001b[0mb\u001b[0m\u001b[1;33m.\u001b[0m\u001b[0mto_csv\u001b[0m\u001b[1;33m(\u001b[0m\u001b[1;34m'outputName'\u001b[0m\u001b[1;33m,\u001b[0m\u001b[0mmode\u001b[0m \u001b[1;33m=\u001b[0m \u001b[1;34m'a'\u001b[0m\u001b[1;33m,\u001b[0m \u001b[0mindex\u001b[0m\u001b[1;33m=\u001b[0m\u001b[1;32mFalse\u001b[0m\u001b[1;33m,\u001b[0m \u001b[0mheader\u001b[0m \u001b[1;33m=\u001b[0m \u001b[1;32mFalse\u001b[0m\u001b[1;33m,\u001b[0m\u001b[0msep\u001b[0m \u001b[1;33m=\u001b[0m \u001b[1;34m\" \"\u001b[0m\u001b[1;33m)\u001b[0m\u001b[1;33m\u001b[0m\u001b[1;33m\u001b[0m\u001b[0m\n\u001b[0m\u001b[0;32m     10\u001b[0m \u001b[0mprint\u001b[0m\u001b[1;33m(\u001b[0m\u001b[1;34m\"Store the data successfully!\"\u001b[0m\u001b[1;33m)\u001b[0m\u001b[1;33m\u001b[0m\u001b[1;33m\u001b[0m\u001b[0m\n",
      "\u001b[1;31mNameError\u001b[0m: name 'b' is not defined"
     ]
    }
   ],
   "source": [
    "f = open('outputName','w')\n",
    "f.write(header[\"title\"]+\"\\n\")\n",
    "if header['is_loop'] == 1:\n",
    "    f.write('loop_'+\"\\n\")\n",
    "for single_element in header['fieldNames']:\n",
    "    f.write(single_element+\"\\n\")\n",
    "f.close()\n",
    "#write the data body\n",
    "b.to_csv('outputName',mode = 'a', index=False, header = False,sep = \" \")\n",
    "print(\"Store the data successfully!\")"
   ]
  },
  {
   "cell_type": "code",
   "execution_count": 7,
   "metadata": {},
   "outputs": [
    {
     "data": {
      "text/html": [
       "<div>\n",
       "<style scoped>\n",
       "    .dataframe tbody tr th:only-of-type {\n",
       "        vertical-align: middle;\n",
       "    }\n",
       "\n",
       "    .dataframe tbody tr th {\n",
       "        vertical-align: top;\n",
       "    }\n",
       "\n",
       "    .dataframe thead th {\n",
       "        text-align: right;\n",
       "    }\n",
       "</style>\n",
       "<table border=\"1\" class=\"dataframe\">\n",
       "  <thead>\n",
       "    <tr style=\"text-align: right;\">\n",
       "      <th></th>\n",
       "      <th>pairIDX1</th>\n",
       "      <th>pairIDX2</th>\n",
       "      <th>pairTomoID</th>\n",
       "      <th>pairTransVectX</th>\n",
       "      <th>pairTransVectY</th>\n",
       "      <th>pairTransVectZ</th>\n",
       "      <th>pairTransAngleZXZPhi</th>\n",
       "      <th>pairTransAngleZXZPsi</th>\n",
       "      <th>pairTransAngleZXZTheta</th>\n",
       "      <th>pairInvTransVectX</th>\n",
       "      <th>...</th>\n",
       "      <th>pairNeighPlus2</th>\n",
       "      <th>pairNeighMinus2</th>\n",
       "      <th>pairTomoName</th>\n",
       "      <th>pairPixelSizeAng</th>\n",
       "      <th>pairOriPartList</th>\n",
       "      <th>pairMaxDist</th>\n",
       "      <th>pairClass</th>\n",
       "      <th>pairClassColour</th>\n",
       "      <th>pairLabel</th>\n",
       "      <th>pairScore</th>\n",
       "    </tr>\n",
       "  </thead>\n",
       "  <tbody>\n",
       "    <tr>\n",
       "      <th>0</th>\n",
       "      <td>0</td>\n",
       "      <td>124</td>\n",
       "      <td>0</td>\n",
       "      <td>-2.794568</td>\n",
       "      <td>-36.762089</td>\n",
       "      <td>61.940060</td>\n",
       "      <td>-135.300293</td>\n",
       "      <td>-152.328705</td>\n",
       "      <td>94.860901</td>\n",
       "      <td>55.442432</td>\n",
       "      <td>...</td>\n",
       "      <td>-1:-1</td>\n",
       "      <td>-1:-1</td>\n",
       "      <td>101.mrc</td>\n",
       "      <td>3.42</td>\n",
       "      <td>./all_particles_15-11-2019.star</td>\n",
       "      <td>100</td>\n",
       "      <td>-1</td>\n",
       "      <td>0-0-0</td>\n",
       "      <td>-1</td>\n",
       "      <td>-</td>\n",
       "    </tr>\n",
       "    <tr>\n",
       "      <th>1</th>\n",
       "      <td>1</td>\n",
       "      <td>116</td>\n",
       "      <td>0</td>\n",
       "      <td>63.233536</td>\n",
       "      <td>69.604912</td>\n",
       "      <td>26.251766</td>\n",
       "      <td>63.312199</td>\n",
       "      <td>-15.287300</td>\n",
       "      <td>78.544502</td>\n",
       "      <td>-57.013306</td>\n",
       "      <td>...</td>\n",
       "      <td>-1:-1</td>\n",
       "      <td>-1:-1</td>\n",
       "      <td>101.mrc</td>\n",
       "      <td>3.42</td>\n",
       "      <td>./all_particles_15-11-2019.star</td>\n",
       "      <td>100</td>\n",
       "      <td>-1</td>\n",
       "      <td>0-0-0</td>\n",
       "      <td>-1</td>\n",
       "      <td>-</td>\n",
       "    </tr>\n",
       "    <tr>\n",
       "      <th>2</th>\n",
       "      <td>1</td>\n",
       "      <td>347</td>\n",
       "      <td>0</td>\n",
       "      <td>-11.929689</td>\n",
       "      <td>-81.434464</td>\n",
       "      <td>22.561117</td>\n",
       "      <td>147.838196</td>\n",
       "      <td>-78.654800</td>\n",
       "      <td>12.916100</td>\n",
       "      <td>77.300484</td>\n",
       "      <td>...</td>\n",
       "      <td>-1:-1</td>\n",
       "      <td>-1:-1</td>\n",
       "      <td>101.mrc</td>\n",
       "      <td>3.42</td>\n",
       "      <td>./all_particles_15-11-2019.star</td>\n",
       "      <td>100</td>\n",
       "      <td>-1</td>\n",
       "      <td>0-0-0</td>\n",
       "      <td>-1</td>\n",
       "      <td>-</td>\n",
       "    </tr>\n",
       "    <tr>\n",
       "      <th>3</th>\n",
       "      <td>1</td>\n",
       "      <td>401</td>\n",
       "      <td>0</td>\n",
       "      <td>80.119781</td>\n",
       "      <td>4.118307</td>\n",
       "      <td>16.491875</td>\n",
       "      <td>156.056198</td>\n",
       "      <td>-101.166801</td>\n",
       "      <td>95.030800</td>\n",
       "      <td>-21.772114</td>\n",
       "      <td>...</td>\n",
       "      <td>-1:-1</td>\n",
       "      <td>-1:-1</td>\n",
       "      <td>101.mrc</td>\n",
       "      <td>3.42</td>\n",
       "      <td>./all_particles_15-11-2019.star</td>\n",
       "      <td>100</td>\n",
       "      <td>-1</td>\n",
       "      <td>0-0-0</td>\n",
       "      <td>-1</td>\n",
       "      <td>-</td>\n",
       "    </tr>\n",
       "    <tr>\n",
       "      <th>4</th>\n",
       "      <td>1</td>\n",
       "      <td>464</td>\n",
       "      <td>0</td>\n",
       "      <td>-40.256191</td>\n",
       "      <td>-16.972010</td>\n",
       "      <td>60.100006</td>\n",
       "      <td>-20.741800</td>\n",
       "      <td>36.979401</td>\n",
       "      <td>78.707802</td>\n",
       "      <td>61.233685</td>\n",
       "      <td>...</td>\n",
       "      <td>-1:-1</td>\n",
       "      <td>-1:-1</td>\n",
       "      <td>101.mrc</td>\n",
       "      <td>3.42</td>\n",
       "      <td>./all_particles_15-11-2019.star</td>\n",
       "      <td>100</td>\n",
       "      <td>-1</td>\n",
       "      <td>0-0-0</td>\n",
       "      <td>-1</td>\n",
       "      <td>-</td>\n",
       "    </tr>\n",
       "    <tr>\n",
       "      <th>...</th>\n",
       "      <td>...</td>\n",
       "      <td>...</td>\n",
       "      <td>...</td>\n",
       "      <td>...</td>\n",
       "      <td>...</td>\n",
       "      <td>...</td>\n",
       "      <td>...</td>\n",
       "      <td>...</td>\n",
       "      <td>...</td>\n",
       "      <td>...</td>\n",
       "      <td>...</td>\n",
       "      <td>...</td>\n",
       "      <td>...</td>\n",
       "      <td>...</td>\n",
       "      <td>...</td>\n",
       "      <td>...</td>\n",
       "      <td>...</td>\n",
       "      <td>...</td>\n",
       "      <td>...</td>\n",
       "      <td>...</td>\n",
       "      <td>...</td>\n",
       "    </tr>\n",
       "    <tr>\n",
       "      <th>14114</th>\n",
       "      <td>11496</td>\n",
       "      <td>11523</td>\n",
       "      <td>17</td>\n",
       "      <td>-9.338574</td>\n",
       "      <td>-44.829960</td>\n",
       "      <td>54.042545</td>\n",
       "      <td>-51.690399</td>\n",
       "      <td>102.308998</td>\n",
       "      <td>86.676498</td>\n",
       "      <td>69.101753</td>\n",
       "      <td>...</td>\n",
       "      <td>-1:-1</td>\n",
       "      <td>-1:-1</td>\n",
       "      <td>118.mrc</td>\n",
       "      <td>3.42</td>\n",
       "      <td>./all_particles_15-11-2019.star</td>\n",
       "      <td>100</td>\n",
       "      <td>-1</td>\n",
       "      <td>0-0-0</td>\n",
       "      <td>-1</td>\n",
       "      <td>-</td>\n",
       "    </tr>\n",
       "    <tr>\n",
       "      <th>14115</th>\n",
       "      <td>11505</td>\n",
       "      <td>11546</td>\n",
       "      <td>17</td>\n",
       "      <td>-7.487466</td>\n",
       "      <td>-25.933910</td>\n",
       "      <td>68.770378</td>\n",
       "      <td>-129.748001</td>\n",
       "      <td>166.091705</td>\n",
       "      <td>104.088203</td>\n",
       "      <td>46.897923</td>\n",
       "      <td>...</td>\n",
       "      <td>-1:-1</td>\n",
       "      <td>-1:-1</td>\n",
       "      <td>118.mrc</td>\n",
       "      <td>3.42</td>\n",
       "      <td>./all_particles_15-11-2019.star</td>\n",
       "      <td>100</td>\n",
       "      <td>-1</td>\n",
       "      <td>0-0-0</td>\n",
       "      <td>-1</td>\n",
       "      <td>-</td>\n",
       "    </tr>\n",
       "    <tr>\n",
       "      <th>14116</th>\n",
       "      <td>11510</td>\n",
       "      <td>11542</td>\n",
       "      <td>17</td>\n",
       "      <td>43.915955</td>\n",
       "      <td>46.675602</td>\n",
       "      <td>-7.808504</td>\n",
       "      <td>50.860600</td>\n",
       "      <td>-72.942398</td>\n",
       "      <td>37.481400</td>\n",
       "      <td>-10.547565</td>\n",
       "      <td>...</td>\n",
       "      <td>-1:-1</td>\n",
       "      <td>-1:-1</td>\n",
       "      <td>118.mrc</td>\n",
       "      <td>3.42</td>\n",
       "      <td>./all_particles_15-11-2019.star</td>\n",
       "      <td>100</td>\n",
       "      <td>-1</td>\n",
       "      <td>0-0-0</td>\n",
       "      <td>-1</td>\n",
       "      <td>-</td>\n",
       "    </tr>\n",
       "    <tr>\n",
       "      <th>14117</th>\n",
       "      <td>11516</td>\n",
       "      <td>11532</td>\n",
       "      <td>17</td>\n",
       "      <td>-18.767899</td>\n",
       "      <td>-32.124931</td>\n",
       "      <td>67.225060</td>\n",
       "      <td>-168.368698</td>\n",
       "      <td>161.141205</td>\n",
       "      <td>69.479103</td>\n",
       "      <td>22.495615</td>\n",
       "      <td>...</td>\n",
       "      <td>-1:-1</td>\n",
       "      <td>-1:-1</td>\n",
       "      <td>118.mrc</td>\n",
       "      <td>3.42</td>\n",
       "      <td>./all_particles_15-11-2019.star</td>\n",
       "      <td>100</td>\n",
       "      <td>-1</td>\n",
       "      <td>0-0-0</td>\n",
       "      <td>-1</td>\n",
       "      <td>-</td>\n",
       "    </tr>\n",
       "    <tr>\n",
       "      <th>14118</th>\n",
       "      <td>11538</td>\n",
       "      <td>11543</td>\n",
       "      <td>17</td>\n",
       "      <td>14.477693</td>\n",
       "      <td>80.205330</td>\n",
       "      <td>33.468113</td>\n",
       "      <td>102.823502</td>\n",
       "      <td>67.809097</td>\n",
       "      <td>118.105103</td>\n",
       "      <td>-3.331626</td>\n",
       "      <td>...</td>\n",
       "      <td>-1:-1</td>\n",
       "      <td>-1:-1</td>\n",
       "      <td>118.mrc</td>\n",
       "      <td>3.42</td>\n",
       "      <td>./all_particles_15-11-2019.star</td>\n",
       "      <td>100</td>\n",
       "      <td>-1</td>\n",
       "      <td>0-0-0</td>\n",
       "      <td>-1</td>\n",
       "      <td>-</td>\n",
       "    </tr>\n",
       "  </tbody>\n",
       "</table>\n",
       "<p>14119 rows × 45 columns</p>\n",
       "</div>"
      ],
      "text/plain": [
       "       pairIDX1  pairIDX2  pairTomoID  pairTransVectX  pairTransVectY  \\\n",
       "0             0       124           0       -2.794568      -36.762089   \n",
       "1             1       116           0       63.233536       69.604912   \n",
       "2             1       347           0      -11.929689      -81.434464   \n",
       "3             1       401           0       80.119781        4.118307   \n",
       "4             1       464           0      -40.256191      -16.972010   \n",
       "...         ...       ...         ...             ...             ...   \n",
       "14114     11496     11523          17       -9.338574      -44.829960   \n",
       "14115     11505     11546          17       -7.487466      -25.933910   \n",
       "14116     11510     11542          17       43.915955       46.675602   \n",
       "14117     11516     11532          17      -18.767899      -32.124931   \n",
       "14118     11538     11543          17       14.477693       80.205330   \n",
       "\n",
       "       pairTransVectZ  pairTransAngleZXZPhi  pairTransAngleZXZPsi  \\\n",
       "0           61.940060           -135.300293           -152.328705   \n",
       "1           26.251766             63.312199            -15.287300   \n",
       "2           22.561117            147.838196            -78.654800   \n",
       "3           16.491875            156.056198           -101.166801   \n",
       "4           60.100006            -20.741800             36.979401   \n",
       "...               ...                   ...                   ...   \n",
       "14114       54.042545            -51.690399            102.308998   \n",
       "14115       68.770378           -129.748001            166.091705   \n",
       "14116       -7.808504             50.860600            -72.942398   \n",
       "14117       67.225060           -168.368698            161.141205   \n",
       "14118       33.468113            102.823502             67.809097   \n",
       "\n",
       "       pairTransAngleZXZTheta  pairInvTransVectX  ...  pairNeighPlus2  \\\n",
       "0                   94.860901          55.442432  ...           -1:-1   \n",
       "1                   78.544502         -57.013306  ...           -1:-1   \n",
       "2                   12.916100          77.300484  ...           -1:-1   \n",
       "3                   95.030800         -21.772114  ...           -1:-1   \n",
       "4                   78.707802          61.233685  ...           -1:-1   \n",
       "...                       ...                ...  ...             ...   \n",
       "14114               86.676498          69.101753  ...           -1:-1   \n",
       "14115              104.088203          46.897923  ...           -1:-1   \n",
       "14116               37.481400         -10.547565  ...           -1:-1   \n",
       "14117               69.479103          22.495615  ...           -1:-1   \n",
       "14118              118.105103          -3.331626  ...           -1:-1   \n",
       "\n",
       "       pairNeighMinus2  pairTomoName  pairPixelSizeAng  \\\n",
       "0                -1:-1       101.mrc              3.42   \n",
       "1                -1:-1       101.mrc              3.42   \n",
       "2                -1:-1       101.mrc              3.42   \n",
       "3                -1:-1       101.mrc              3.42   \n",
       "4                -1:-1       101.mrc              3.42   \n",
       "...                ...           ...               ...   \n",
       "14114            -1:-1       118.mrc              3.42   \n",
       "14115            -1:-1       118.mrc              3.42   \n",
       "14116            -1:-1       118.mrc              3.42   \n",
       "14117            -1:-1       118.mrc              3.42   \n",
       "14118            -1:-1       118.mrc              3.42   \n",
       "\n",
       "                       pairOriPartList  pairMaxDist  pairClass  \\\n",
       "0      ./all_particles_15-11-2019.star          100         -1   \n",
       "1      ./all_particles_15-11-2019.star          100         -1   \n",
       "2      ./all_particles_15-11-2019.star          100         -1   \n",
       "3      ./all_particles_15-11-2019.star          100         -1   \n",
       "4      ./all_particles_15-11-2019.star          100         -1   \n",
       "...                                ...          ...        ...   \n",
       "14114  ./all_particles_15-11-2019.star          100         -1   \n",
       "14115  ./all_particles_15-11-2019.star          100         -1   \n",
       "14116  ./all_particles_15-11-2019.star          100         -1   \n",
       "14117  ./all_particles_15-11-2019.star          100         -1   \n",
       "14118  ./all_particles_15-11-2019.star          100         -1   \n",
       "\n",
       "       pairClassColour  pairLabel  pairScore  \n",
       "0                0-0-0         -1          -  \n",
       "1                0-0-0         -1          -  \n",
       "2                0-0-0         -1          -  \n",
       "3                0-0-0         -1          -  \n",
       "4                0-0-0         -1          -  \n",
       "...                ...        ...        ...  \n",
       "14114            0-0-0         -1          -  \n",
       "14115            0-0-0         -1          -  \n",
       "14116            0-0-0         -1          -  \n",
       "14117            0-0-0         -1          -  \n",
       "14118            0-0-0         -1          -  \n",
       "\n",
       "[14119 rows x 45 columns]"
      ]
     },
     "execution_count": 7,
     "metadata": {},
     "output_type": "execute_result"
    }
   ],
   "source": [
    "from tom_starread import tom_starread\n",
    "tom_starread(\"./ILV\")"
   ]
  },
  {
   "cell_type": "code",
   "execution_count": 12,
   "metadata": {},
   "outputs": [
    {
     "data": {
      "text/plain": [
       "0.0002599999999999997"
      ]
     },
     "execution_count": 12,
     "metadata": {},
     "output_type": "execute_result"
    }
   ],
   "source": [
    "(0.7060-0.6948)**2 + (0.046-0.0344)**2"
   ]
  },
  {
   "cell_type": "code",
   "execution_count": 10,
   "metadata": {},
   "outputs": [],
   "source": [
    "import numpy as np"
   ]
  },
  {
   "cell_type": "code",
   "execution_count": 13,
   "metadata": {},
   "outputs": [
    {
     "data": {
      "text/plain": [
       "0.01612451549659709"
      ]
     },
     "execution_count": 13,
     "metadata": {},
     "output_type": "execute_result"
    }
   ],
   "source": [
    "np.sqrt(0.0002599999999999997)"
   ]
  },
  {
   "cell_type": "code",
   "execution_count": 14,
   "metadata": {},
   "outputs": [
    {
     "name": "stdout",
     "output_type": "stream",
     "text": [
      "star_data = tom_starread(\"./all_particles_15-11-2019.star\")\n",
      "star_data\n",
      "from  tom_starread import tom_starread\n",
      "from tom_extractData import tom_extractData\n",
      "star_data = tom_starread(\"./all_particles_15-11-2019.star\")\n",
      "star_data\n",
      "st = tom_extractData(star_data,0)\n",
      "header = { }\n",
      "header[\"is_loop\"] = 1\n",
      "header[\"title\"] = \"data_\"\n",
      "header[\"fieldNames\"] = ['_pairIDX1','_pairIDX2','_pairTomoID',\n",
      "                              '_pairTransVectX','_pairTransVectY','_pairTransVectZ',\n",
      "                              '_pairTransAngleZXZPhi', '_pairTransAngleZXZPsi','_pairTransAngleZXZTheta',\n",
      "                              '_pairInvTransVectX','_pairInvTransVectY','_pairInvTransVectZ',\n",
      "                              '_pairInvTransAngleZXZPhi', '_pairInvTransAngleZXZPsi','_pairInvTransAngleZXZTheta',\n",
      "                              '_pairLenTrans','_pairAngDist',\n",
      "                              '_pairCoordinateX1','_pairCoordinateY1','_pairCoordinateZ1',\n",
      "                              '_pairAnglePhi1','_pairAnglePsi1','_pairAngleTheta1',\n",
      "                              '_pairClass1','_pairPsf1',\n",
      "                               '_pairNeighPlus1','_pairNeighMinus1',\n",
      "                              '_pairCoordinateX2','_pairCoordinateY2','_pairCoordinateZ2',\n",
      "                              '_pairAnglePhi2','_pairAnglePsi2','_pairAngleTheta2',\n",
      "                              '_pairClass2','_pairPsf2',\n",
      "                               '_pairNeighPlus2','_pairNeighMinus2',\n",
      "                              '_pairTomoName','_pairPixelSizeAng',\n",
      "                              '_pairOriPartList',\n",
      "                              '_pairMaxDist','_pairClass','_pairClassColour','_pairLabel','_pairScore']\n",
      "f = open('outputName','w')\n",
      "f.write(header[\"title\"]+\"\\n\")\n",
      "if header['is_loop'] == 1:\n",
      "    f.write('loop_'+\"\\n\")\n",
      "for single_element in header['fieldNames']:\n",
      "    f.write(single_element+\"\\n\")\n",
      "f.close()\n",
      "#write the data body\n",
      "b.to_csv('outputName',mode = 'a', index=False, header = False,sep = \" \")\n",
      "print(\"Store the data successfully!\")\n",
      "from tom_starread import tom_starread\n",
      "tom_starread(\"./ILV\")\n",
      "(0.7922-0.6787)**2\n",
      "(0.7922-0.6787)**2 + (0.0357-0.3922)**2\n",
      "import numpy as np\n",
      "np.sqrt(0.1399745)\n",
      "(0.7060-0.6948)**2 + (0.046-0.0344)**2\n",
      "np.sqrt(0.0002599999999999997)\n",
      "%history\n"
     ]
    }
   ],
   "source": [
    "%history"
   ]
  },
  {
   "cell_type": "code",
   "execution_count": 15,
   "metadata": {},
   "outputs": [
    {
     "data": {
      "text/plain": [
       "3.4641016151377544"
      ]
     },
     "execution_count": 15,
     "metadata": {},
     "output_type": "execute_result"
    }
   ],
   "source": [
    "np.sqrt(2**2*3)"
   ]
  },
  {
   "cell_type": "code",
   "execution_count": 17,
   "metadata": {},
   "outputs": [
    {
     "data": {
      "text/plain": [
       "3"
      ]
     },
     "execution_count": 17,
     "metadata": {},
     "output_type": "execute_result"
    }
   ],
   "source": [
    "a = np.array([1,2,3])\n",
    "a.shape[0]"
   ]
  },
  {
   "cell_type": "code",
   "execution_count": null,
   "metadata": {},
   "outputs": [],
   "source": []
  }
 ],
 "metadata": {
  "kernelspec": {
   "display_name": "Python 3",
   "language": "python",
   "name": "python3"
  },
  "language_info": {
   "codemirror_mode": {
    "name": "ipython",
    "version": 3
   },
   "file_extension": ".py",
   "mimetype": "text/x-python",
   "name": "python",
   "nbconvert_exporter": "python",
   "pygments_lexer": "ipython3",
   "version": "3.6.7"
  }
 },
 "nbformat": 4,
 "nbformat_minor": 2
}
